{
 "cells": [
  {
   "cell_type": "code",
   "execution_count": 33,
   "id": "c1769d3b-1bf0-4e59-a466-08deecadd731",
   "metadata": {},
   "outputs": [],
   "source": [
    "import os\n",
    "import pandas as pd\n",
    "import numpy as np\n",
    "import geopandas as gpd\n",
    "import matplotlib.pyplot as plt\n",
    "import matplotlib\n",
    "import json\n",
    "from shapely import wkt\n",
    "import time"
   ]
  },
  {
   "cell_type": "markdown",
   "id": "5a30d862-da0f-479c-b68a-1d7543a73c80",
   "metadata": {},
   "source": [
    "### json -> geojson"
   ]
  },
  {
   "cell_type": "raw",
   "id": "315ff519-1a2e-45fa-9589-b84b8997ba86",
   "metadata": {},
   "source": [
    "from shapely import MultiLineString\n",
    "\n",
    "with open(\"cable-geo.json\", \"r\") as f:\n",
    "    data = json.load(f)\n",
    "\n",
    "rows = []\n",
    "for feature in data[\"features\"]:\n",
    "    props = feature[\"properties\"]\n",
    "    geometry = feature[\"geometry\"]\n",
    "    \n",
    "    props[\"geometry_type\"] = geometry[\"type\"]\n",
    "    props[\"coordinates\"] = geometry[\"coordinates\"]  # This will be a list of lists (MultiLineString)\n",
    "    \n",
    "    rows.append(props)\n",
    "\n",
    "cable_df=pd.DataFrame(rows)"
   ]
  },
  {
   "cell_type": "raw",
   "id": "fdd35ddf-2063-4a0b-be96-60467e7e7ce3",
   "metadata": {},
   "source": [
    "def build_geometry(row):\n",
    "    coords = row[\"coordinates\"]\n",
    "    gtype = row[\"geometry_type\"]\n",
    "    \n",
    "    if gtype == \"LineString\":\n",
    "        return LineString(coords)\n",
    "    elif gtype == \"MultiLineString\":\n",
    "        return MultiLineString(coords)\n",
    "    else:\n",
    "        return None  # Or raise an exception if needed\n",
    "\n",
    "cable_df[\"geometry\"] = cable_df.apply(build_geometry, axis=1)\n",
    "\n",
    "# Step 5: Convert to GeoDataFrame\n",
    "gdf = gpd.GeoDataFrame(cable_df, geometry=\"geometry\", crs=\"EPSG:4326\")\n",
    "\n",
    "# Step 6: Save to GeoJSON\n",
    "gdf.to_file(\"cleaned_cables.geojson\", driver=\"GeoJSON\")"
   ]
  },
  {
   "cell_type": "raw",
   "id": "c81530c5-9c9c-476f-989c-073683995fc2",
   "metadata": {},
   "source": [
    "mustsuccessjoin.to_csv(\"join.csv\")"
   ]
  },
  {
   "cell_type": "raw",
   "id": "1def642a-5636-47a8-8941-7138efdcc173",
   "metadata": {},
   "source": [
    "df = pd.read_csv(\"join.csv\")"
   ]
  },
  {
   "cell_type": "markdown",
   "id": "40883a23-fecf-4d0b-b2ee-b9db3840e412",
   "metadata": {},
   "source": [
    "### Reading File"
   ]
  },
  {
   "cell_type": "code",
   "execution_count": 5,
   "id": "307acb7e-cbf5-48fa-80ca-0a1d99aedfba",
   "metadata": {},
   "outputs": [],
   "source": [
    "cable = gpd.read_file(\"cleaned_cables.geojson\")\n",
    "point = gpd.read_file(\"landing-point-geo.json\")\n",
    "\n",
    "cable = cable.to_crs(\"EPSG:4326\")\n",
    "point = point.to_crs(\"EPSG:4326\")"
   ]
  },
  {
   "cell_type": "markdown",
   "id": "8ae28daf-d750-4885-8301-688aedb513ce",
   "metadata": {},
   "source": [
    "### 1. Join Cable\n",
    "拉EAD-C2C的Cable出來\n",
    "Multilinestring 分成許多條Line\n",
    "找出最靠近的點 "
   ]
  },
  {
   "cell_type": "code",
   "execution_count": 22,
   "id": "8cc54ecc-50bc-4297-aaf7-95a9223ecb67",
   "metadata": {},
   "outputs": [],
   "source": [
    "mustsuccessjoin = gpd.sjoin(cable, point, how=\"left\", predicate='dwithin',\n",
    "    distance=0.00255)\n",
    "\n",
    "mustsuccessjoin = mustsuccessjoin.sort_values(by=\"id_right\")\n",
    "mustsuccessjoin.to_csv(\"Joined_right.csv\")"
   ]
  },
  {
   "cell_type": "raw",
   "id": "12465df2-7af3-4850-aa85-00a1c4371a90",
   "metadata": {},
   "source": [
    "counts = mustsuccessjoin['id_right'].value_counts().reset_index()\n",
    "counts.columns = ['cable_name', 'count']\n"
   ]
  },
  {
   "cell_type": "code",
   "execution_count": 29,
   "id": "75103416-8ebf-42f3-962a-e70dd07dd6c3",
   "metadata": {},
   "outputs": [],
   "source": [
    "Read_File = gpd.read_file(\"join.csv\")\n",
    "Count_New = Read_File['id_right'].value_counts().reset_index()\n",
    "Count_New.to_csv(\"Count_New.csv\")"
   ]
  },
  {
   "cell_type": "raw",
   "id": "d31833db-5774-4598-bfff-11b4fb60860a",
   "metadata": {},
   "source": [
    "cable = gpd.read_file(\"cleaned_cables.geojson\")\n",
    "cable = cable.explode(index_parts=False)\n",
    "\n",
    "#Getting EAC-C2C\n",
    "cable_EAC = cable[cable['id'] == \"eac-c2c\"]\n",
    "joined = gpd.sjoin_nearest(cable_EAC,point,how=\"inner\")\n",
    "#joined =  gpd.sjoin(point, cable_EAC, how=\"right\", predicate='dwithin', distance=0.0025)\n",
    "\n",
    "#print(joined)\n",
    "\n",
    "#joined.plot(column=\"id_right\")\n",
    "#joined.to_csv(\"join_eac.csv\")\n",
    "\n",
    "print(cable_EAC.to_string())"
   ]
  },
  {
   "cell_type": "markdown",
   "id": "5b1bc17a-69b3-44bf-aa0c-148c37adb23f",
   "metadata": {},
   "source": [
    "### 2. Crawling myshilpvessel data"
   ]
  },
  {
   "cell_type": "markdown",
   "id": "c921f3d0-3a6c-4db5-befa-6dc8216904bc",
   "metadata": {},
   "source": [
    "### 3. Centrality"
   ]
  },
  {
   "cell_type": "markdown",
   "id": "8c6a6c2c-9df8-4b4c-a55a-8afffabb0e4b",
   "metadata": {},
   "source": [
    "### 4. Cutting off the cable"
   ]
  },
  {
   "cell_type": "markdown",
   "id": "afbd5e03-2d18-4d8e-b00f-aece34d648d3",
   "metadata": {},
   "source": [
    "### 5. Centrality ( After Cutting off the cable )"
   ]
  },
  {
   "cell_type": "markdown",
   "id": "f44a43cd-911e-4942-a0f9-d5766bc0490e",
   "metadata": {},
   "source": [
    "### Archive"
   ]
  },
  {
   "cell_type": "raw",
   "id": "519b9f26-5c41-4875-8d51-eae6058f7bbb",
   "metadata": {},
   "source": [
    "import pandas as pd\n",
    "import networkx as nx\n",
    "\n",
    "# Initialize undirected graph\n",
    "G = nx.Graph()\n",
    "\n",
    "# Group by cable ID and connect all stations under the same cable\n",
    "for cable_id, group in df.groupby(\"feature_id\"):\n",
    "    stations = group[\"name_left\"].dropna().unique()\n",
    "    for i in range(len(stations)):\n",
    "        for j in range(i + 1, len(stations)):\n",
    "            G.add_edge(stations[i], stations[j], cable_id=cable_id)\n",
    "\n",
    "# Calculate eigenvector centrality\n",
    "centrality = nx.eigenvector_centrality(G, max_iter=1000)\n",
    "\n",
    "top_10 = sorted(centrality.items(), key=lambda x: x[1], reverse=True)[:1000]\n",
    "for station, score in top_10:\n",
    "    print(f\"{station}: {score:.4f}\")"
   ]
  }
 ],
 "metadata": {
  "kernelspec": {
   "display_name": "Python [conda env:base] *",
   "language": "python",
   "name": "conda-base-py"
  },
  "language_info": {
   "codemirror_mode": {
    "name": "ipython",
    "version": 3
   },
   "file_extension": ".py",
   "mimetype": "text/x-python",
   "name": "python",
   "nbconvert_exporter": "python",
   "pygments_lexer": "ipython3",
   "version": "3.12.4"
  }
 },
 "nbformat": 4,
 "nbformat_minor": 5
}
